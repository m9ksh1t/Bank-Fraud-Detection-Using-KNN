{
 "cells": [
  {
   "cell_type": "code",
   "execution_count": 1,
   "metadata": {},
   "outputs": [],
   "source": [
    "import pickle\n",
    "import pandas as pd\n",
    "\n",
    "# Load the pickled model\n",
    "with open('pkl_models/ABC_model.pkl', 'rb') as model_file_ABC:\n",
    "    modelABC = pickle.load(model_file_ABC)\n",
    "with open('pkl_models/DTC_model.pkl', 'rb') as model_file_DTC:\n",
    "    modelDTC = pickle.load(model_file_DTC)\n",
    "with open('pkl_models/KNN_model.pkl', 'rb') as model_file_KNN:\n",
    "    modelKNN = pickle.load(model_file_KNN)\n",
    "with open('pkl_models/RFC_model.pkl', 'rb') as model_file_KNN:\n",
    "    modelRFC = pickle.load(model_file_KNN)\n",
    "with open('pkl_models/XGB_model.pkl', 'rb') as model_file_XGB:\n",
    "    modelXGB = pickle.load(model_file_XGB)"
   ]
  },
  {
   "cell_type": "code",
   "execution_count": 2,
   "metadata": {},
   "outputs": [
    {
     "data": {
      "text/html": [
       "<div>\n",
       "<style scoped>\n",
       "    .dataframe tbody tr th:only-of-type {\n",
       "        vertical-align: middle;\n",
       "    }\n",
       "\n",
       "    .dataframe tbody tr th {\n",
       "        vertical-align: top;\n",
       "    }\n",
       "\n",
       "    .dataframe thead th {\n",
       "        text-align: right;\n",
       "    }\n",
       "</style>\n",
       "<table border=\"1\" class=\"dataframe\">\n",
       "  <thead>\n",
       "    <tr style=\"text-align: right;\">\n",
       "      <th></th>\n",
       "      <th>type</th>\n",
       "      <th>amount</th>\n",
       "      <th>oldbalanceOrg</th>\n",
       "      <th>newbalanceOrig</th>\n",
       "      <th>oldbalanceDest</th>\n",
       "      <th>newbalanceDest</th>\n",
       "      <th>isFraud</th>\n",
       "    </tr>\n",
       "  </thead>\n",
       "  <tbody>\n",
       "    <tr>\n",
       "      <th>0</th>\n",
       "      <td>PAYMENT</td>\n",
       "      <td>9839.64</td>\n",
       "      <td>170136.0</td>\n",
       "      <td>160296.36</td>\n",
       "      <td>0.0</td>\n",
       "      <td>0.0</td>\n",
       "      <td>0</td>\n",
       "    </tr>\n",
       "    <tr>\n",
       "      <th>1</th>\n",
       "      <td>PAYMENT</td>\n",
       "      <td>1864.28</td>\n",
       "      <td>21249.0</td>\n",
       "      <td>19384.72</td>\n",
       "      <td>0.0</td>\n",
       "      <td>0.0</td>\n",
       "      <td>0</td>\n",
       "    </tr>\n",
       "    <tr>\n",
       "      <th>2</th>\n",
       "      <td>TRANSFER</td>\n",
       "      <td>181.00</td>\n",
       "      <td>181.0</td>\n",
       "      <td>0.00</td>\n",
       "      <td>0.0</td>\n",
       "      <td>0.0</td>\n",
       "      <td>1</td>\n",
       "    </tr>\n",
       "    <tr>\n",
       "      <th>3</th>\n",
       "      <td>CASH_OUT</td>\n",
       "      <td>181.00</td>\n",
       "      <td>181.0</td>\n",
       "      <td>0.00</td>\n",
       "      <td>21182.0</td>\n",
       "      <td>0.0</td>\n",
       "      <td>1</td>\n",
       "    </tr>\n",
       "    <tr>\n",
       "      <th>4</th>\n",
       "      <td>PAYMENT</td>\n",
       "      <td>11668.14</td>\n",
       "      <td>41554.0</td>\n",
       "      <td>29885.86</td>\n",
       "      <td>0.0</td>\n",
       "      <td>0.0</td>\n",
       "      <td>0</td>\n",
       "    </tr>\n",
       "  </tbody>\n",
       "</table>\n",
       "</div>"
      ],
      "text/plain": [
       "       type    amount  oldbalanceOrg  newbalanceOrig  oldbalanceDest  \\\n",
       "0   PAYMENT   9839.64       170136.0       160296.36             0.0   \n",
       "1   PAYMENT   1864.28        21249.0        19384.72             0.0   \n",
       "2  TRANSFER    181.00          181.0            0.00             0.0   \n",
       "3  CASH_OUT    181.00          181.0            0.00         21182.0   \n",
       "4   PAYMENT  11668.14        41554.0        29885.86             0.0   \n",
       "\n",
       "   newbalanceDest  isFraud  \n",
       "0             0.0        0  \n",
       "1             0.0        0  \n",
       "2             0.0        1  \n",
       "3             0.0        1  \n",
       "4             0.0        0  "
      ]
     },
     "execution_count": 2,
     "metadata": {},
     "output_type": "execute_result"
    }
   ],
   "source": [
    "df=pd.read_csv('ratio_dataset.csv')\n",
    "df = df.drop(columns=['step','nameOrig', 'nameDest','isFlaggedFraud'])\n",
    "df.head()"
   ]
  },
  {
   "cell_type": "code",
   "execution_count": 3,
   "metadata": {},
   "outputs": [],
   "source": [
    "df['type']=df['type'].map({'PAYMENT':2, 'TRANSFER':4, 'CASH_OUT':1, 'DEBIT':5, 'CASH_IN':3})\n",
    "x=df[['type','amount','oldbalanceOrg','newbalanceOrig', 'oldbalanceDest', 'newbalanceDest']]\n",
    "y=df.iloc[:,-1]"
   ]
  },
  {
   "cell_type": "code",
   "execution_count": 4,
   "metadata": {},
   "outputs": [],
   "source": [
    "from sklearn.model_selection import train_test_split\n",
    "\n",
    "\n",
    "x_train, x_test, y_train, y_test = train_test_split(x, y, test_size=0.2, random_state=42)"
   ]
  },
  {
   "cell_type": "code",
   "execution_count": 6,
   "metadata": {},
   "outputs": [
    {
     "name": "stdout",
     "output_type": "stream",
     "text": [
      "DecisionTree: 99.48320413436691\n",
      "AdaBoost: 99.48320413436691\n",
      "KNN: 99.2248062015504\n",
      "RandomForest: 99.6124031007752\n",
      "XGBoost: 99.35400516795866\n"
     ]
    }
   ],
   "source": [
    "from sklearn.metrics import accuracy_score\n",
    "import xgboost as xgb\n",
    "accABC = modelABC.score(x_test, y_test)*100\n",
    "accDTC = modelDTC.score(x_test, y_test)*100\n",
    "accKNN = modelKNN.score(x_test, y_test)*100\n",
    "accRFC = modelRFC.score(x_test, y_test)*100\n",
    "dmtest = xgb.DMatrix(x_test)\n",
    "y_pred_XGB = modelXGB.predict(dmtest)\n",
    "accXGB = accuracy_score(y_test, y_pred_XGB)*100\n",
    "\n",
    "print(\"DecisionTree:\",accDTC)\n",
    "print(\"AdaBoost:\",accABC)\n",
    "print(\"KNN:\",accKNN)\n",
    "print(\"RandomForest:\",accRFC)\n",
    "print(\"XGBoost:\",accXGB)"
   ]
  },
  {
   "cell_type": "code",
   "execution_count": 7,
   "metadata": {},
   "outputs": [
    {
     "data": {
      "text/plain": [
       "array([[  4, 181, 181,   0,   0,   0]], dtype=int64)"
      ]
     },
     "execution_count": 7,
     "metadata": {},
     "output_type": "execute_result"
    }
   ],
   "source": [
    "user_input = {\n",
    "    'type': 4,  # This should be a number representing the transaction type\n",
    "    'amount': 181,  # The amount of the transaction\n",
    "    'oldbalanceOrg': 181,  # The original balance before the transaction\n",
    "    'newbalanceOrig': 0,  # The new balance after the transaction\n",
    "    'oldbalanceDest': 0,  # The original balance of the recipient before the transaction\n",
    "    'newbalanceDest': 0  # The new balance of the recipient after the transaction\n",
    "}\n",
    "new_data_df = pd.DataFrame([user_input])\n",
    "new_data_df.values"
   ]
  },
  {
   "cell_type": "code",
   "execution_count": 8,
   "metadata": {},
   "outputs": [
    {
     "data": {
      "text/plain": [
       "True"
      ]
     },
     "execution_count": 8,
     "metadata": {},
     "output_type": "execute_result"
    }
   ],
   "source": [
    "predABC = modelABC.predict(new_data_df)\n",
    "predDTC = modelDTC.predict(new_data_df)\n",
    "predKNN = modelKNN.predict(new_data_df)\n",
    "predRFC = modelRFC.predict(new_data_df)\n",
    "\n",
    "dtest = xgb.DMatrix(new_data_df)\n",
    "predXGB = modelXGB.predict(dtest)\n",
    "\n",
    "pred_list = [predABC[0],predDTC[0],predKNN[0],predRFC[0],predXGB[0]]\n",
    "\n",
    "count_0 = pred_list.count(0)\n",
    "count_1 = pred_list.count(1)\n",
    "\n",
    "is_fraud = count_0 < count_1\n",
    "\n",
    "is_fraud"
   ]
  },
  {
   "cell_type": "code",
   "execution_count": null,
   "metadata": {},
   "outputs": [],
   "source": []
  }
 ],
 "metadata": {
  "kernelspec": {
   "display_name": "Python 3",
   "language": "python",
   "name": "python3"
  },
  "language_info": {
   "codemirror_mode": {
    "name": "ipython",
    "version": 3
   },
   "file_extension": ".py",
   "mimetype": "text/x-python",
   "name": "python",
   "nbconvert_exporter": "python",
   "pygments_lexer": "ipython3",
   "version": "3.12.2"
  }
 },
 "nbformat": 4,
 "nbformat_minor": 2
}
